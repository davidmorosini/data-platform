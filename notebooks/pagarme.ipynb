{
 "cells": [
  {
   "cell_type": "code",
   "execution_count": 2,
   "id": "ecbcea15-b1b8-49df-9454-7fbb68c06cf0",
   "metadata": {},
   "outputs": [],
   "source": [
    "from typing import List\n",
    "import os\n",
    "\n",
    "from pyspark.sql import DataFrame\n",
    "from pyspark.sql.functions import to_timestamp\n",
    "\n",
    "from pyspark.sql import SparkSession, SQLContext"
   ]
  },
  {
   "cell_type": "code",
   "execution_count": 3,
   "id": "7a89a32f-e6e6-45e3-916d-1c6512d72c8c",
   "metadata": {},
   "outputs": [],
   "source": [
    "# Função de Transformação do trex-dags\n",
    "\n",
    "def transform_columns_to_timestamp(\n",
    "    df: DataFrame, timestamp_fields: List[str]\n",
    ") -> DataFrame:\n",
    "    for timestamp_field in timestamp_fields:\n",
    "        df = df.withColumn(f\"{timestamp_field}_ts\", to_timestamp(timestamp_field))\n",
    "        df = df.drop(timestamp_field)\n",
    "        df = df.withColumnRenamed(f\"{timestamp_field}_ts\", timestamp_field)\n",
    "\n",
    "    return df\n"
   ]
  },
  {
   "cell_type": "code",
   "execution_count": 11,
   "id": "fba3364c-4d7a-40d2-afb8-cc50c551e30b",
   "metadata": {},
   "outputs": [
    {
     "name": "stderr",
     "output_type": "stream",
     "text": [
      "WARNING: An illegal reflective access operation has occurred\n",
      "WARNING: Illegal reflective access by org.apache.spark.unsafe.Platform (file:/usr/local/lib/python3.9/dist-packages/pyspark/jars/spark-unsafe_2.12-3.0.0.jar) to constructor java.nio.DirectByteBuffer(long,int)\n",
      "WARNING: Please consider reporting this to the maintainers of org.apache.spark.unsafe.Platform\n",
      "WARNING: Use --illegal-access=warn to enable warnings of further illegal reflective access operations\n",
      "WARNING: All illegal access operations will be denied in a future release\n",
      "21/08/31 11:17:03 WARN NativeCodeLoader: Unable to load native-hadoop library for your platform... using builtin-java classes where applicable\n",
      "Using Spark's default log4j profile: org/apache/spark/log4j-defaults.properties\n",
      "Setting default log level to \"WARN\".\n",
      "To adjust logging level use sc.setLogLevel(newLevel). For SparkR, use setLogLevel(newLevel).\n"
     ]
    }
   ],
   "source": [
    "MAX_MEMORY = \"5g\"\n",
    "\n",
    "spark = SparkSession \\\n",
    "    .builder \\\n",
    "    .appName(\"Pagar.me Data Cluster\") \\\n",
    "    .config(\"spark.executor.memory\", MAX_MEMORY) \\\n",
    "    .config(\"spark.driver.memory\", MAX_MEMORY) \\\n",
    "    .getOrCreate()\n"
   ]
  },
  {
   "cell_type": "code",
   "execution_count": 9,
   "id": "b4f6d263-cc9f-459e-b996-f2bbeb87c971",
   "metadata": {},
   "outputs": [],
   "source": [
    "input_path = os.path.join(\".\", \"teste\")\n",
    "output_path = os.path.join(\".\", \"output_spark\", \"processed_files\")\n",
    "\n",
    "if os.path.isdir(output_path):\n",
    "    os.rmdir(output_path)\n",
    "\n",
    "timestamp_fields = [\n",
    "    \"created_at\",\n",
    "    \"updated_at\",\n",
    "    \"boleto_expiration_date\",\n",
    "    \"local_time\",\n",
    "    \"pix_expiration_date\"\n",
    "]\n"
   ]
  },
  {
   "cell_type": "code",
   "execution_count": 13,
   "id": "6cc1b424-db28-47a6-ad34-eb16667b4f94",
   "metadata": {},
   "outputs": [
    {
     "name": "stderr",
     "output_type": "stream",
     "text": [
      "21/08/31 11:18:22 WARN package: Truncated the string representation of a plan since it was too large. This behavior can be adjusted by setting 'spark.sql.debug.maxToStringFields'.\n",
      "                                                                                \r"
     ]
    }
   ],
   "source": [
    "df = spark.read.parquet(input_path)\n",
    "\n",
    "transformed_df = transform_columns_to_timestamp(df, timestamp_fields)\n",
    "\n",
    "transformed_df.repartition(100).write.option(\"compression\", \"snappy\").parquet(output_path)"
   ]
  },
  {
   "cell_type": "code",
   "execution_count": null,
   "id": "fa76c4aa-e65a-432c-85e0-0975303e9c1d",
   "metadata": {},
   "outputs": [],
   "source": []
  },
  {
   "cell_type": "code",
   "execution_count": 19,
   "id": "01bb0823-4f9d-4639-9dc2-7fba73ed5bdc",
   "metadata": {},
   "outputs": [],
   "source": [
    "df_processed = spark.read.parquet(output_path)"
   ]
  },
  {
   "cell_type": "code",
   "execution_count": 20,
   "id": "0280d5dc-04e3-42bc-9bea-deb3b4825c81",
   "metadata": {},
   "outputs": [
    {
     "data": {
      "text/plain": [
       "[('created_at', 'timestamp'),\n",
       " ('updated_at', 'timestamp'),\n",
       " ('boleto_expiration_date', 'timestamp'),\n",
       " ('local_time', 'timestamp'),\n",
       " ('pix_expiration_date', 'timestamp')]"
      ]
     },
     "execution_count": 20,
     "metadata": {},
     "output_type": "execute_result"
    }
   ],
   "source": [
    "# Show columns after transforming in to datetime\n",
    "[(i, v) for i, v in df_processed.dtypes if i in timestamp_fields]"
   ]
  },
  {
   "cell_type": "code",
   "execution_count": 21,
   "id": "47ebbf33-6cd3-49f9-9f04-6b5d5a584617",
   "metadata": {},
   "outputs": [
    {
     "data": {
      "text/plain": [
       "[('boleto_expiration_date', 'string'),\n",
       " ('created_at', 'string'),\n",
       " ('updated_at', 'string'),\n",
       " ('local_time', 'string'),\n",
       " ('pix_expiration_date', 'string')]"
      ]
     },
     "execution_count": 21,
     "metadata": {},
     "output_type": "execute_result"
    }
   ],
   "source": [
    "# Show columns before transforming in to datetime\n",
    "[(i, v) for i, v in df.dtypes if i in timestamp_fields]"
   ]
  },
  {
   "cell_type": "code",
   "execution_count": null,
   "id": "37b1d476-5a9a-487e-addd-774028c4e3a4",
   "metadata": {},
   "outputs": [],
   "source": []
  }
 ],
 "metadata": {
  "kernelspec": {
   "display_name": "Python 3 (ipykernel)",
   "language": "python",
   "name": "python3"
  },
  "language_info": {
   "codemirror_mode": {
    "name": "ipython",
    "version": 3
   },
   "file_extension": ".py",
   "mimetype": "text/x-python",
   "name": "python",
   "nbconvert_exporter": "python",
   "pygments_lexer": "ipython3",
   "version": "3.9.2"
  }
 },
 "nbformat": 4,
 "nbformat_minor": 5
}
