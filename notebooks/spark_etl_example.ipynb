{
 "cells": [
  {
   "cell_type": "code",
   "execution_count": 1,
   "id": "2617cb45-4cdf-4be9-bc2f-2e69ac095dc5",
   "metadata": {},
   "outputs": [],
   "source": [
    "from pyspark.sql import SparkSession, SQLContext"
   ]
  },
  {
   "cell_type": "code",
   "execution_count": 2,
   "id": "532435c4-7eb2-4096-b96c-b0c8705be0f8",
   "metadata": {},
   "outputs": [],
   "source": [
    "# Get Spark session\n",
    "sc = SparkSession.builder.appName(\"ETL Example\").getOrCreate()"
   ]
  },
  {
   "cell_type": "markdown",
   "id": "93f0d939-898e-41a6-b557-aa74dfdbfefc",
   "metadata": {},
   "source": [
    "# Capturando dados do site do governo federal sobre qualidade de água\n",
    "\n"
   ]
  },
  {
   "cell_type": "code",
   "execution_count": 8,
   "id": "87d9250e-d7b6-4eef-8174-b731597e1765",
   "metadata": {},
   "outputs": [
    {
     "data": {
      "text/plain": [
       "0"
      ]
     },
     "execution_count": 8,
     "metadata": {},
     "output_type": "execute_result"
    }
   ],
   "source": [
    "from io import BytesIO\n",
    "import os\n",
    "import requests\n",
    "\n",
    "url = \"https://raw.githubusercontent.com/davidmorosini/insAIghts/main/risk_analyse/database/credit_risk.csv\"\n",
    "raw_data = requests.get(url).text\n",
    "\n",
    "os.mkdir(\"dataset\")\n",
    "with open(\"dataset/dataset.csv\", \"w\") as arq:\n",
    "    arq.write(raw_data)"
   ]
  },
  {
   "cell_type": "code",
   "execution_count": 13,
   "id": "4d8d7227-fe0c-4fb8-9d6b-de7d3f644c5a",
   "metadata": {},
   "outputs": [],
   "source": [
    "sdfData = sc.read.format(\"csv\").load(\"dataset/dataset.csv\", header=True, sep=\",\").cache()"
   ]
  },
  {
   "cell_type": "code",
   "execution_count": 14,
   "id": "96e044b7-9f67-469a-bb95-55f43676612b",
   "metadata": {},
   "outputs": [
    {
     "name": "stdout",
     "output_type": "stream",
     "text": [
      "Total Records = 64592\n"
     ]
    }
   ],
   "source": [
    "print('Total Records = {}'.format(sdfData.count()))"
   ]
  },
  {
   "cell_type": "code",
   "execution_count": 30,
   "id": "b4f1dd05-1199-42fd-8ef1-741eea8220f0",
   "metadata": {},
   "outputs": [],
   "source": [
    "sdfData.registerTempTable(\"sales\")"
   ]
  },
  {
   "cell_type": "code",
   "execution_count": 38,
   "id": "502b8b74-b3c9-451b-8584-4ef1497a8011",
   "metadata": {},
   "outputs": [],
   "source": [
    "output =  sc.sql('SELECT ids from sales where default = True')"
   ]
  },
  {
   "cell_type": "code",
   "execution_count": 39,
   "id": "6b6fb7b8-0d03-49d9-a7a6-2996f328167a",
   "metadata": {},
   "outputs": [
    {
     "name": "stdout",
     "output_type": "stream",
     "text": [
      "+--------------------+\n",
      "|                 ids|\n",
      "+--------------------+\n",
      "|acbb594c-fdfa-fee...|\n",
      "|95ba212b-db72-110...|\n",
      "|ff860c5e-3452-d75...|\n",
      "|7f93590f-4a91-aec...|\n",
      "|a390d111-8c65-6e1...|\n",
      "|d040b1f4-9224-abf...|\n",
      "|8af43881-2656-863...|\n",
      "|97fb3d11-5949-269...|\n",
      "|3ec4c7ed-3826-b1d...|\n",
      "|e035260d-e797-d64...|\n",
      "|dbcae5fa-6a5d-32d...|\n",
      "|1ee49ae0-fdce-50e...|\n",
      "|bb28bd2d-63fd-312...|\n",
      "|9d317809-86e1-62c...|\n",
      "|0e5448b5-6693-fc1...|\n",
      "|f9458286-05fb-5ab...|\n",
      "|dd3de208-f241-e2d...|\n",
      "|e873a009-eabd-bd2...|\n",
      "|c01a1022-93b0-b54...|\n",
      "|805dcedf-0194-40b...|\n",
      "+--------------------+\n",
      "only showing top 20 rows\n",
      "\n"
     ]
    }
   ],
   "source": [
    "output.show()"
   ]
  },
  {
   "cell_type": "code",
   "execution_count": null,
   "id": "59c41b87-5043-43ac-a350-e073b5c17389",
   "metadata": {},
   "outputs": [],
   "source": []
  }
 ],
 "metadata": {
  "kernelspec": {
   "display_name": "Python 3",
   "language": "python",
   "name": "python3"
  },
  "language_info": {
   "codemirror_mode": {
    "name": "ipython",
    "version": 3
   },
   "file_extension": ".py",
   "mimetype": "text/x-python",
   "name": "python",
   "nbconvert_exporter": "python",
   "pygments_lexer": "ipython3",
   "version": "3.7.3"
  }
 },
 "nbformat": 4,
 "nbformat_minor": 5
}
