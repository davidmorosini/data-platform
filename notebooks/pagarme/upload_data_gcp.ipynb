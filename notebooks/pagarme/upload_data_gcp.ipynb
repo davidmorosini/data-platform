{
 "cells": [
  {
   "cell_type": "code",
   "execution_count": 16,
   "id": "c40dbdf4-d7b8-42a7-826d-56f8ea673e02",
   "metadata": {},
   "outputs": [],
   "source": [
    "from shared.io import df_to_parquet\n",
    "from shared.gcp import BigQuery"
   ]
  },
  {
   "cell_type": "code",
   "execution_count": 35,
   "id": "f551a9b2-e4c0-4fc7-b97e-a061e7d5e699",
   "metadata": {},
   "outputs": [],
   "source": [
    "bq = BigQuery()"
   ]
  },
  {
   "cell_type": "code",
   "execution_count": 26,
   "id": "62ee31bf-7589-4430-9ca2-485c9e5727e7",
   "metadata": {},
   "outputs": [
    {
     "data": {
      "text/plain": [
       "['changes.csv']"
      ]
     },
     "execution_count": 26,
     "metadata": {},
     "output_type": "execute_result"
    }
   ],
   "source": [
    "import os\n",
    "\n",
    "files = os.listdir(\"data\")\n",
    "files = [f for f in files if f.endswith(\".csv\")]\n",
    "files.sort()\n",
    "files"
   ]
  },
  {
   "cell_type": "code",
   "execution_count": 27,
   "id": "44a09132-0a04-43a3-99e5-0d7080603d32",
   "metadata": {},
   "outputs": [],
   "source": [
    "import pandas as pd"
   ]
  },
  {
   "cell_type": "code",
   "execution_count": 28,
   "id": "7441ea87-ec5f-457e-87f5-d0c5330554c6",
   "metadata": {},
   "outputs": [],
   "source": [
    "df = pd.read_csv(\"data/changes.csv\")"
   ]
  },
  {
   "cell_type": "code",
   "execution_count": 29,
   "id": "6ab002bb-a950-49be-9fdc-63de620047a4",
   "metadata": {},
   "outputs": [],
   "source": [
    "def create_chunks(target_list: list, chunk_size: int) -> list:\n",
    "    payloads = []\n",
    "\n",
    "    for index in range(0, len(target_list), chunk_size):\n",
    "        content_base = target_list[index: index + chunk_size]\n",
    "        payloads.append(content_base)\n",
    "\n",
    "    return payloads"
   ]
  },
  {
   "cell_type": "code",
   "execution_count": 32,
   "id": "b631a3ba-d2d8-4826-88e9-72497b73584c",
   "metadata": {},
   "outputs": [
    {
     "name": "stdout",
     "output_type": "stream",
     "text": [
      "There are 55 of max size 2000 to run\n"
     ]
    }
   ],
   "source": [
    "changed_ids = tuple(df[\"id\"].tolist())\n",
    "MAX_CHUNK_SIZE = 2000\n",
    "chunks = create_chunks(changed_ids, MAX_CHUNK_SIZE)\n",
    "\n",
    "qtd_chunks = len(chunks)\n",
    "print(f\"There are {qtd_chunks} of max size {MAX_CHUNK_SIZE} to run\")"
   ]
  },
  {
   "cell_type": "code",
   "execution_count": 33,
   "id": "b5f2e4c1-4230-4b66-8e88-e04a8c55b732",
   "metadata": {},
   "outputs": [
    {
     "name": "stdout",
     "output_type": "stream",
     "text": [
      "Run chunk 1 / 55\n",
      "Run chunk 2 / 55\n",
      "Run chunk 3 / 55\n",
      "Run chunk 4 / 55\n",
      "Run chunk 5 / 55\n",
      "Run chunk 6 / 55\n",
      "Run chunk 7 / 55\n",
      "Run chunk 8 / 55\n",
      "Run chunk 9 / 55\n",
      "Run chunk 10 / 55\n",
      "Run chunk 11 / 55\n",
      "Run chunk 12 / 55\n",
      "Run chunk 13 / 55\n",
      "Run chunk 14 / 55\n",
      "Run chunk 15 / 55\n",
      "Run chunk 16 / 55\n",
      "Run chunk 17 / 55\n",
      "Run chunk 18 / 55\n",
      "Run chunk 19 / 55\n",
      "Run chunk 20 / 55\n",
      "Run chunk 21 / 55\n",
      "Run chunk 22 / 55\n",
      "Run chunk 23 / 55\n",
      "Run chunk 24 / 55\n",
      "Run chunk 25 / 55\n",
      "Run chunk 26 / 55\n",
      "Run chunk 27 / 55\n",
      "Run chunk 28 / 55\n",
      "Run chunk 29 / 55\n",
      "Run chunk 30 / 55\n",
      "Run chunk 31 / 55\n",
      "Run chunk 32 / 55\n",
      "Run chunk 33 / 55\n",
      "Run chunk 34 / 55\n",
      "Run chunk 35 / 55\n",
      "Run chunk 36 / 55\n",
      "Run chunk 37 / 55\n",
      "Run chunk 38 / 55\n",
      "Run chunk 39 / 55\n",
      "Run chunk 40 / 55\n",
      "Run chunk 41 / 55\n",
      "Run chunk 42 / 55\n",
      "Run chunk 43 / 55\n",
      "Run chunk 44 / 55\n",
      "Run chunk 45 / 55\n",
      "Run chunk 46 / 55\n",
      "Run chunk 47 / 55\n",
      "Run chunk 48 / 55\n",
      "Run chunk 49 / 55\n",
      "Run chunk 50 / 55\n",
      "Run chunk 51 / 55\n",
      "Run chunk 52 / 55\n",
      "Run chunk 53 / 55\n",
      "Run chunk 54 / 55\n",
      "Run chunk 55 / 55\n"
     ]
    }
   ],
   "source": [
    "for index, chunk in enumerate(chunks):\n",
    "    print(f\"Run chunk {index + 1} / {qtd_chunks}\")\n",
    "    delete_query = f\"\"\"\n",
    "        delete from \n",
    "        `sqd99ises64fwqthg6jfld2uv2y3wn.pagarme_views.mv_companies_acquirers`\n",
    "        where id in {tuple(chunk)};\n",
    "    \"\"\" # NOQA\n",
    "    bq.run_query(delete_query)\n",
    "\n",
    "\n"
   ]
  },
  {
   "cell_type": "code",
   "execution_count": 34,
   "id": "77aa5edc-99a2-4e58-96a0-22692e1c2c9b",
   "metadata": {},
   "outputs": [
    {
     "name": "stdout",
     "output_type": "stream",
     "text": [
      "There are 14 of max size 8000 to run\n"
     ]
    }
   ],
   "source": [
    "changed_ids = tuple(df[\"id\"].tolist())\n",
    "MAX_CHUNK_SIZE = 8000\n",
    "chunks = create_chunks(changed_ids, MAX_CHUNK_SIZE)\n",
    "\n",
    "qtd_chunks = len(chunks)\n",
    "print(f\"There are {qtd_chunks} of max size {MAX_CHUNK_SIZE} to run\")"
   ]
  },
  {
   "cell_type": "code",
   "execution_count": 36,
   "id": "88616f36-224a-4507-b60f-287947ae5fdc",
   "metadata": {},
   "outputs": [
    {
     "name": "stdout",
     "output_type": "stream",
     "text": [
      "Run chunk 1 / 14\n",
      "Run chunk 2 / 14\n",
      "Run chunk 3 / 14\n",
      "Run chunk 4 / 14\n",
      "Run chunk 5 / 14\n",
      "Run chunk 6 / 14\n",
      "Run chunk 7 / 14\n",
      "Run chunk 8 / 14\n",
      "Run chunk 9 / 14\n",
      "Run chunk 10 / 14\n",
      "Run chunk 11 / 14\n",
      "Run chunk 12 / 14\n",
      "Run chunk 13 / 14\n",
      "Run chunk 14 / 14\n"
     ]
    }
   ],
   "source": [
    "for index, chunk in enumerate(chunks):\n",
    "    print(f\"Run chunk {index + 1} / {qtd_chunks}\")\n",
    "    dfc = df.loc[df[\"id\"].isin(chunk)]\n",
    "    bq.batch_insert(dfc, \"pagarme_views\", \"mv_companies_acquirers\")\n",
    "\n",
    "\n"
   ]
  },
  {
   "cell_type": "code",
   "execution_count": null,
   "id": "7269576f-4e9b-4031-b7ad-c0c9dd1e8ea2",
   "metadata": {},
   "outputs": [],
   "source": []
  }
 ],
 "metadata": {
  "kernelspec": {
   "display_name": "Python 3 (ipykernel)",
   "language": "python",
   "name": "python3"
  },
  "language_info": {
   "codemirror_mode": {
    "name": "ipython",
    "version": 3
   },
   "file_extension": ".py",
   "mimetype": "text/x-python",
   "name": "python",
   "nbconvert_exporter": "python",
   "pygments_lexer": "ipython3",
   "version": "3.9.2"
  }
 },
 "nbformat": 4,
 "nbformat_minor": 5
}
