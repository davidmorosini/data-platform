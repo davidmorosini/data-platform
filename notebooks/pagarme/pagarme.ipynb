{
 "cells": [
  {
   "cell_type": "code",
   "execution_count": 213,
   "id": "ecbcea15-b1b8-49df-9454-7fbb68c06cf0",
   "metadata": {},
   "outputs": [],
   "source": [
    "from typing import List\n",
    "import os\n",
    "\n",
    "from pyspark.sql import DataFrame\n",
    "from pyspark.sql.functions import to_timestamp, to_date\n",
    "from pyspark.sql.functions import col\n",
    "\n",
    "from pyspark.sql import SparkSession, SQLContext"
   ]
  },
  {
   "cell_type": "code",
   "execution_count": 5,
   "id": "7a89a32f-e6e6-45e3-916d-1c6512d72c8c",
   "metadata": {},
   "outputs": [],
   "source": [
    "# Função de Transformação do trex-dags\n",
    "\n",
    "\n",
    "def transform_columns_to_timestamp(\n",
    "    df: DataFrame, timestamp_fields: List[str]\n",
    ") -> DataFrame:\n",
    "    for timestamp_field in timestamp_fields:\n",
    "        df = df.withColumn(f\"{timestamp_field}_ts\", to_timestamp(timestamp_field))\n",
    "        df = df.drop(timestamp_field)\n",
    "        df = df.withColumnRenamed(f\"{timestamp_field}_ts\", timestamp_field)\n",
    "\n",
    "    return df"
   ]
  },
  {
   "cell_type": "code",
   "execution_count": 34,
   "id": "fba3364c-4d7a-40d2-afb8-cc50c551e30b",
   "metadata": {},
   "outputs": [],
   "source": [
    "MAX_MEMORY = \"5g\"\n",
    "\n",
    "spark = (\n",
    "    SparkSession.builder.appName(\"Pagar.me Data Cluster\")\n",
    "    .config(\"spark.executor.memory\", MAX_MEMORY)\n",
    "    .config(\"spark.driver.memory\", MAX_MEMORY)\n",
    "    .getOrCreate()\n",
    ")"
   ]
  },
  {
   "cell_type": "code",
   "execution_count": 9,
   "id": "b4f6d263-cc9f-459e-b996-f2bbeb87c971",
   "metadata": {},
   "outputs": [],
   "source": [
    "input_path = os.path.join(\".\", \"pagarme\")\n",
    "output_path = os.path.join(\".\", \"output\", \"processed_files\")\n",
    "\n",
    "if os.path.isdir(output_path):\n",
    "    os.rmdir(output_path)\n",
    "\n",
    "timestamp_fields = [\n",
    "    \"created_at\",\n",
    "    \"updated_at\",\n",
    "    \"local_time\",\n",
    "    #     \"pix_expiration_date\"\n",
    "]"
   ]
  },
  {
   "cell_type": "code",
   "execution_count": 10,
   "id": "6cc1b424-db28-47a6-ad34-eb16667b4f94",
   "metadata": {},
   "outputs": [],
   "source": [
    "df = spark.read.parquet(input_path)"
   ]
  },
  {
   "cell_type": "code",
   "execution_count": 11,
   "id": "01cef502-7a2a-4f80-b443-b2b00aba89be",
   "metadata": {},
   "outputs": [
    {
     "data": {
      "text/plain": [
       "[('created_at', 'string'), ('updated_at', 'string'), ('local_time', 'string')]"
      ]
     },
     "execution_count": 11,
     "metadata": {},
     "output_type": "execute_result"
    }
   ],
   "source": [
    "# Show columns before transforming in to datetime\n",
    "[(i, v) for i, v in df.dtypes if i in timestamp_fields]"
   ]
  },
  {
   "cell_type": "code",
   "execution_count": null,
   "id": "2b0d1623-64d7-4386-8626-ec57a2604275",
   "metadata": {},
   "outputs": [],
   "source": []
  },
  {
   "cell_type": "code",
   "execution_count": 12,
   "id": "be6e5994-e65b-4e62-ae7c-6b9d54aaed36",
   "metadata": {},
   "outputs": [],
   "source": [
    "transformed_df = transform_columns_to_timestamp(df, timestamp_fields)"
   ]
  },
  {
   "cell_type": "code",
   "execution_count": 13,
   "id": "4002e3f8-663f-4c90-8d3f-71b3671fbdd6",
   "metadata": {},
   "outputs": [
    {
     "name": "stderr",
     "output_type": "stream",
     "text": [
      "                                                                                \r"
     ]
    },
    {
     "data": {
      "text/plain": [
       "213439422"
      ]
     },
     "execution_count": 13,
     "metadata": {},
     "output_type": "execute_result"
    }
   ],
   "source": [
    "transformed_df.count()"
   ]
  },
  {
   "cell_type": "code",
   "execution_count": 19,
   "id": "4026135a-8839-4b67-9c9a-b3c8631b9ecc",
   "metadata": {},
   "outputs": [],
   "source": [
    "df_acima = (\n",
    "    transformed_df.filter(transformed_df.boleto_expiration_date.isNotNull())\n",
    "    .filter(col(\"boleto_expiration_date\") > \"2030-01-01 00:00:00\")\n",
    "    .select(\n",
    "        \"id\", \"boleto_expiration_date\", \"created_at\", \"payment_method\", \"company_id\"\n",
    "    )\n",
    "    .sort(col(\"boleto_expiration_date\").desc(), col(\"created_at\").desc())\n",
    ")\n",
    "#     .show(100, truncate=False)"
   ]
  },
  {
   "cell_type": "code",
   "execution_count": 20,
   "id": "fce461c2-b37e-4179-b103-2a2e53785cfd",
   "metadata": {},
   "outputs": [
    {
     "name": "stderr",
     "output_type": "stream",
     "text": [
      "                                                                                \r"
     ]
    },
    {
     "data": {
      "text/plain": [
       "1657"
      ]
     },
     "execution_count": 20,
     "metadata": {},
     "output_type": "execute_result"
    }
   ],
   "source": [
    "df_acima.count()"
   ]
  },
  {
   "cell_type": "code",
   "execution_count": 21,
   "id": "9acb9426-e061-4966-911c-a04a5c8dab92",
   "metadata": {},
   "outputs": [],
   "source": [
    "df_abaixo = (\n",
    "    transformed_df.filter(transformed_df.boleto_expiration_date.isNotNull())\n",
    "    .filter(col(\"boleto_expiration_date\") < \"2010-01-01 00:00:00\")\n",
    "    .select(\n",
    "        \"id\", \"boleto_expiration_date\", \"created_at\", \"payment_method\", \"company_id\"\n",
    "    )\n",
    "    .sort(col(\"boleto_expiration_date\").desc(), col(\"created_at\").desc())\n",
    ")\n",
    "#     .show(100, truncate=False)"
   ]
  },
  {
   "cell_type": "code",
   "execution_count": 22,
   "id": "86337230-7a1e-443d-814f-d481af305fdb",
   "metadata": {},
   "outputs": [
    {
     "name": "stderr",
     "output_type": "stream",
     "text": [
      "                                                                                \r"
     ]
    },
    {
     "data": {
      "text/plain": [
       "1285"
      ]
     },
     "execution_count": 22,
     "metadata": {},
     "output_type": "execute_result"
    }
   ],
   "source": [
    "df_abaixo.count()"
   ]
  },
  {
   "cell_type": "code",
   "execution_count": 24,
   "id": "2309c48d-2eb1-4647-8c5c-8f91039042ae",
   "metadata": {},
   "outputs": [],
   "source": [
    "df_final = df_acima.union(df_abaixo)"
   ]
  },
  {
   "cell_type": "code",
   "execution_count": 25,
   "id": "0a473b0c-7bd5-46d3-b2d0-2c98250aba04",
   "metadata": {},
   "outputs": [
    {
     "name": "stderr",
     "output_type": "stream",
     "text": [
      "                                                                                \r"
     ]
    },
    {
     "data": {
      "text/plain": [
       "2942"
      ]
     },
     "execution_count": 25,
     "metadata": {},
     "output_type": "execute_result"
    }
   ],
   "source": [
    "df_final.count()"
   ]
  },
  {
   "cell_type": "code",
   "execution_count": 26,
   "id": "af28df13-93ee-4da2-b299-c9c25c136350",
   "metadata": {},
   "outputs": [
    {
     "name": "stderr",
     "output_type": "stream",
     "text": [
      "                                                                                \r"
     ]
    }
   ],
   "source": [
    "df_final.toPandas().to_csv(\"result.csv\")"
   ]
  },
  {
   "cell_type": "code",
   "execution_count": null,
   "id": "58c94db4-8bef-4055-bed4-ba75c6c18e7c",
   "metadata": {},
   "outputs": [],
   "source": []
  },
  {
   "cell_type": "code",
   "execution_count": null,
   "id": "19224946-eba1-4903-8b16-077f1d9da8aa",
   "metadata": {},
   "outputs": [],
   "source": []
  },
  {
   "cell_type": "code",
   "execution_count": null,
   "id": "64b7dbeb-6b85-4d7a-a855-c403120ce464",
   "metadata": {},
   "outputs": [],
   "source": []
  },
  {
   "cell_type": "code",
   "execution_count": 43,
   "id": "11a803ac-adc4-4ab3-af10-2034d3e0f4e2",
   "metadata": {},
   "outputs": [],
   "source": []
  },
  {
   "cell_type": "code",
   "execution_count": 175,
   "id": "4fbbcccc-3368-4fe4-a8b0-697508478ddd",
   "metadata": {},
   "outputs": [
    {
     "data": {
      "text/plain": [
       "'2031-08-30 17:20:27.271568'"
      ]
     },
     "execution_count": 175,
     "metadata": {},
     "output_type": "execute_result"
    }
   ],
   "source": [
    "from datetime import timedelta, datetime\n",
    "\n",
    "limit_sup = datetime.now() + timedelta(days=3650)\n",
    "limit_inf = \"2010-01-01 00:00:00\"\n",
    "\n",
    "limit_sup = str(limit_sup)\n",
    "limit_sup"
   ]
  },
  {
   "cell_type": "code",
   "execution_count": 176,
   "id": "d94ad854-8af0-44dd-bbef-7f75520186d4",
   "metadata": {},
   "outputs": [],
   "source": [
    "from pyspark.sql.types import StringType, TimestampType\n",
    "from pyspark.sql.functions import udf\n",
    "\n",
    "# maturity_udf = udf(lambda age: \"adult\" if age >=18 else \"child\", StringType())\n",
    "\n",
    "\n",
    "age_udf = udf(lambda x: None if x > limit_sup or x < limit_inf else x, StringType())"
   ]
  },
  {
   "cell_type": "code",
   "execution_count": 177,
   "id": "80316556-89e3-44aa-8f30-f2ea07824c3b",
   "metadata": {},
   "outputs": [
    {
     "name": "stdout",
     "output_type": "stream",
     "text": [
      "+----------------------+\n",
      "|boleto_expiration_date|\n",
      "+----------------------+\n",
      "|  0001-01-01 03:06:...|\n",
      "|  8062-06-30 03:00:...|\n",
      "|  1900-06-30 03:00:...|\n",
      "|  2021-09-27 03:00:...|\n",
      "|  0000-00-00 00:00:...|\n",
      "+----------------------+\n",
      "\n"
     ]
    }
   ],
   "source": [
    "df = spark.createDataFrame(\n",
    "    [\n",
    "        {\"boleto_expiration_date\": \"0001-01-01 03:06:28.000000\"},\n",
    "        {\"boleto_expiration_date\": \"8062-06-30 03:00:00.000000\"},\n",
    "        {\"boleto_expiration_date\": \"1900-06-30 03:00:00.000000\"},\n",
    "        {\"boleto_expiration_date\": \"2021-09-27 03:00:00.000000\"},\n",
    "        {\"boleto_expiration_date\": \"0000-00-00 00:00:00.000000\"},\n",
    "    ]\n",
    ")\n",
    "df.show()"
   ]
  },
  {
   "cell_type": "code",
   "execution_count": 158,
   "id": "951f1210-05be-4b86-882d-2113e15b0a4d",
   "metadata": {},
   "outputs": [
    {
     "name": "stdout",
     "output_type": "stream",
     "text": [
      "+----------------------+\n",
      "|boleto_expiration_date|\n",
      "+----------------------+\n",
      "|                  null|\n",
      "|                  null|\n",
      "|                  null|\n",
      "|  2021-09-27 03:00:...|\n",
      "|                  null|\n",
      "+----------------------+\n",
      "\n"
     ]
    }
   ],
   "source": [
    "df2 = df.withColumn(\"boleto_expiration_date\", age_udf(df.boleto_expiration_date))\n",
    "df2.show()"
   ]
  },
  {
   "cell_type": "code",
   "execution_count": 152,
   "id": "fa1c4d5c-8f9a-4a8d-bf6f-12e390e879e2",
   "metadata": {},
   "outputs": [
    {
     "name": "stdout",
     "output_type": "stream",
     "text": [
      "+----------------------+\n",
      "|boleto_expiration_date|\n",
      "+----------------------+\n",
      "|                  null|\n",
      "|                  null|\n",
      "|                  null|\n",
      "|   2021-09-27 03:00:00|\n",
      "|                  null|\n",
      "+----------------------+\n",
      "\n"
     ]
    }
   ],
   "source": [
    "df_gg = transform_columns_to_timestamp(df2, [\"boleto_expiration_date\"])\n",
    "df_gg.show()"
   ]
  },
  {
   "cell_type": "code",
   "execution_count": 178,
   "id": "c93acf00-51c3-490e-a12f-bac4733478d6",
   "metadata": {},
   "outputs": [],
   "source": [
    "TIMESTAM_MAX = str(datetime.now() + timedelta(days=3650))\n",
    "TIMESTAM_MIN = \"2010-01-01 00:00:00\""
   ]
  },
  {
   "cell_type": "code",
   "execution_count": 179,
   "id": "6991e0a6-3fe4-49b9-8e78-af6569466123",
   "metadata": {},
   "outputs": [],
   "source": [
    "def clean_timestamp_columns(\n",
    "    df: DataFrame,\n",
    "    timestamp_fields: List[str],\n",
    ") -> DataFrame:\n",
    "    #     log.info(f\"Cleaning timestamp columns {timestamp_fields}\")\n",
    "    timestamp_validation_udf = udf(\n",
    "        lambda x: None if x > TIMESTAM_MAX or x < TIMESTAM_MIN else x, StringType()\n",
    "    )\n",
    "\n",
    "    for timestamp_field in timestamp_fields:\n",
    "        df = df.withColumn(\n",
    "            timestamp_field, timestamp_validation_udf(df[timestamp_field])\n",
    "        )\n",
    "\n",
    "    return df"
   ]
  },
  {
   "cell_type": "code",
   "execution_count": 184,
   "id": "b0000373-4f1a-4298-8299-e9f20e386505",
   "metadata": {},
   "outputs": [
    {
     "name": "stdout",
     "output_type": "stream",
     "text": [
      "+----------------------+\n",
      "|boleto_expiration_date|\n",
      "+----------------------+\n",
      "|  0001-01-01 03:06:...|\n",
      "|  8062-06-30 03:00:...|\n",
      "|  1900-06-30 03:00:...|\n",
      "|  2021-09-27 03:00:...|\n",
      "|  0000-00-00 00:00:...|\n",
      "+----------------------+\n",
      "\n"
     ]
    }
   ],
   "source": [
    "df.show()"
   ]
  },
  {
   "cell_type": "code",
   "execution_count": 180,
   "id": "9426c877-3af1-4024-9bf9-c58ba7787ca4",
   "metadata": {},
   "outputs": [],
   "source": [
    "dfhh = clean_timestamp_columns(df, [\"boleto_expiration_date\"])"
   ]
  },
  {
   "cell_type": "code",
   "execution_count": 181,
   "id": "02698b37-f6cf-456a-8387-1a4063c76980",
   "metadata": {},
   "outputs": [
    {
     "name": "stdout",
     "output_type": "stream",
     "text": [
      "+----------------------+\n",
      "|boleto_expiration_date|\n",
      "+----------------------+\n",
      "|                  null|\n",
      "|                  null|\n",
      "|                  null|\n",
      "|  2021-09-27 03:00:...|\n",
      "|                  null|\n",
      "+----------------------+\n",
      "\n"
     ]
    }
   ],
   "source": [
    "dfhh.show()"
   ]
  },
  {
   "cell_type": "code",
   "execution_count": null,
   "id": "c3dbb7b1-0a01-404a-a5b7-523ffdddfeec",
   "metadata": {},
   "outputs": [],
   "source": []
  },
  {
   "cell_type": "code",
   "execution_count": null,
   "id": "6744174d-eeb2-4091-aab8-5b9798af5ce1",
   "metadata": {},
   "outputs": [],
   "source": []
  },
  {
   "cell_type": "code",
   "execution_count": null,
   "id": "8e78630b-aa71-4d0b-9921-9907a7aba1db",
   "metadata": {},
   "outputs": [],
   "source": []
  },
  {
   "cell_type": "code",
   "execution_count": 199,
   "id": "84157436-85be-4ee4-ba7c-481892a1d2b8",
   "metadata": {},
   "outputs": [
    {
     "name": "stdout",
     "output_type": "stream",
     "text": [
      "+----------------------+--------------------+\n",
      "|boleto_expiration_date|          created_at|\n",
      "+----------------------+--------------------+\n",
      "|  0001-01-01 03:06:...|2021-09-01 03:06:...|\n",
      "|  8062-06-30 03:00:...|2021-09-01 03:06:...|\n",
      "|  1900-06-30 03:00:...|2021-09-01 03:06:...|\n",
      "|  2021-09-27 03:00:...|2021-09-01 03:06:...|\n",
      "|  0000-00-00 00:00:...|2021-09-01 03:06:...|\n",
      "+----------------------+--------------------+\n",
      "\n"
     ]
    }
   ],
   "source": [
    "df = spark.createDataFrame(\n",
    "    [\n",
    "        {\n",
    "            \"boleto_expiration_date\": \"0001-01-01 03:06:28.000000\",\n",
    "            \"created_at\": \"2021-09-01 03:06:28.000000\",\n",
    "        },\n",
    "        {\n",
    "            \"boleto_expiration_date\": \"8062-06-30 03:00:00.000000\",\n",
    "            \"created_at\": \"2021-09-01 03:06:28.000000\",\n",
    "        },\n",
    "        {\n",
    "            \"boleto_expiration_date\": \"1900-06-30 03:00:00.000000\",\n",
    "            \"created_at\": \"2021-09-01 03:06:28.000000\",\n",
    "        },\n",
    "        {\n",
    "            \"boleto_expiration_date\": \"2021-09-27 03:00:00.000000\",\n",
    "            \"created_at\": \"2021-09-01 03:06:28.000000\",\n",
    "        },\n",
    "        {\n",
    "            \"boleto_expiration_date\": \"0000-00-00 00:00:00.000000\",\n",
    "            \"created_at\": \"2021-09-01 03:06:28.000000\",\n",
    "        },\n",
    "    ]\n",
    ")\n",
    "df.show()"
   ]
  },
  {
   "cell_type": "code",
   "execution_count": 218,
   "id": "c6d4ae54-2202-4fec-a428-f37601659be5",
   "metadata": {},
   "outputs": [
    {
     "data": {
      "text/plain": [
       "datetime.datetime(2021, 9, 1, 3, 6, 28)"
      ]
     },
     "execution_count": 218,
     "metadata": {},
     "output_type": "execute_result"
    }
   ],
   "source": [
    "convert = lambda string: datetime.strptime(\n",
    "    \"2021-09-01 03:06:28.00\", \"%Y-%m-%d %H:%M:%S.%f\"\n",
    ")\n",
    "\n",
    "created_at_datetime = convert(\"2021-09-01 03:06:28.00\")\n",
    "created_at_datetime"
   ]
  },
  {
   "cell_type": "code",
   "execution_count": 227,
   "id": "184418ca-cf6d-482e-9c5e-93620d0906ac",
   "metadata": {},
   "outputs": [],
   "source": [
    "from datetime import datetime, timedelta\n",
    "\n",
    "\n",
    "@udf(returnType=StringType())\n",
    "def clean_boleto(created_at, boleto_field):\n",
    "    created_at_datetime = datetime.strptime(created_at, \"%Y-%m-%d %H:%M:%S.%f\")\n",
    "\n",
    "    limit_sup_date = str(created_at_datetime + timedelta(days=3_650))\n",
    "\n",
    "    condition_boleto_after = created_at > boleto_field\n",
    "    condition_boleto_exceed_limit = boleto_field > limit_sup_date\n",
    "\n",
    "    if condition_boleto_after or condition_boleto_exceed_limit:\n",
    "        return None\n",
    "\n",
    "    return boleto_field\n",
    "\n",
    "\n",
    "def clean_boleto_columns(\n",
    "    df: DataFrame,\n",
    "    boleto_fields: List[str],\n",
    ") -> DataFrame:\n",
    "\n",
    "    for boleto_field in boleto_fields:\n",
    "        df = df.withColumn(\n",
    "            boleto_field,\n",
    "            clean_boleto(\n",
    "                df[\"created_at\"],\n",
    "                df[boleto_field],\n",
    "            ),\n",
    "        )\n",
    "\n",
    "    return df"
   ]
  },
  {
   "cell_type": "code",
   "execution_count": 228,
   "id": "aa533af1-0627-40da-84fa-689b9a172823",
   "metadata": {},
   "outputs": [
    {
     "name": "stdout",
     "output_type": "stream",
     "text": [
      "+----------------------+--------------------+\n",
      "|boleto_expiration_date|          created_at|\n",
      "+----------------------+--------------------+\n",
      "|                  null|2021-09-01 03:06:...|\n",
      "|                  null|2021-09-01 03:06:...|\n",
      "|                  null|2021-09-01 03:06:...|\n",
      "|  2021-09-27 03:00:...|2021-09-01 03:06:...|\n",
      "|                  null|2021-09-01 03:06:...|\n",
      "+----------------------+--------------------+\n",
      "\n"
     ]
    }
   ],
   "source": [
    "clean_boleto_columns(df, [\"boleto_expiration_date\"]).show()"
   ]
  },
  {
   "cell_type": "code",
   "execution_count": 229,
   "id": "1b77a9c5-f6a1-4572-8212-68888bff6c9b",
   "metadata": {},
   "outputs": [
    {
     "name": "stdout",
     "output_type": "stream",
     "text": [
      "+----------------------+--------------------+\n",
      "|boleto_expiration_date|          created_at|\n",
      "+----------------------+--------------------+\n",
      "|  0001-01-01 03:06:...|2021-09-01 03:06:...|\n",
      "|  8062-06-30 03:00:...|2021-09-01 03:06:...|\n",
      "|  1900-06-30 03:00:...|2021-09-01 03:06:...|\n",
      "|  2021-09-27 03:00:...|2021-09-01 03:06:...|\n",
      "|  0000-00-00 00:00:...|2021-09-01 03:06:...|\n",
      "+----------------------+--------------------+\n",
      "\n"
     ]
    }
   ],
   "source": [
    "df.show()"
   ]
  },
  {
   "cell_type": "code",
   "execution_count": null,
   "id": "90b372c5-2956-4cc9-a3ad-4ee7aa8aa5a1",
   "metadata": {},
   "outputs": [],
   "source": []
  }
 ],
 "metadata": {
  "kernelspec": {
   "display_name": "Python 3 (ipykernel)",
   "language": "python",
   "name": "python3"
  },
  "language_info": {
   "codemirror_mode": {
    "name": "ipython",
    "version": 3
   },
   "file_extension": ".py",
   "mimetype": "text/x-python",
   "name": "python",
   "nbconvert_exporter": "python",
   "pygments_lexer": "ipython3",
   "version": "3.9.2"
  }
 },
 "nbformat": 4,
 "nbformat_minor": 5
}
